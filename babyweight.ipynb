{
 "cells": [
  {
   "cell_type": "markdown",
   "metadata": {},
   "source": [
    "# <a id=\"index\">INDEX</a>\n",
    "\n",
    "https://github.com/GoogleCloudPlatform/training-data-analyst/blob/master/blogs/babyweight/babyweight.ipynb\n",
    "\n",
    "**IDEA SIMPLE REPLICATE THE BABYWEIGHT NOTEBOOK SO THAT I LEARN BY DOING**\n",
    "\n",
    "\n",
    "\n",
    "\n",
    "1.[Setup Enviroment](#setupEnviroment)\n",
    "\n",
    "2.[Setup Imports](#setupImports)\n",
    "\n",
    "3.[Create Datasets](#createDatasets)\n",
    "\n",
    "4.[Train Tensorflow](#trainTensorflow)\n",
    "\n",
    "5.[Train ML APi](#trainMLAPI)\n",
    "\n",
    "6.[Predict](#predict)\n",
    "\n",
    "[Back to Index](#index)"
   ]
  },
  {
   "cell_type": "markdown",
   "metadata": {},
   "source": [
    "# <a id=\"setupEnviroment\">1. Setup Enviroment</a>\n",
    "[Back to Index](#index)"
   ]
  },
  {
   "cell_type": "code",
   "execution_count": null,
   "metadata": {
    "collapsed": true
   },
   "outputs": [],
   "source": [
    "import os\n",
    "os.environ['BUCKET'] = 'rcontesti-gcp'\n",
    "os.environ['PROJECT'] = 'rcontesti-gcp'\n",
    "os.environ['REGION'] = 'us-east1'"
   ]
  }
 ],
 "metadata": {
  "kernelspec": {
   "display_name": "Python 2",
   "language": "python",
   "name": "python2"
  }
 },
 "nbformat": 4,
 "nbformat_minor": 2
}
